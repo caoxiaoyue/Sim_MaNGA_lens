{
 "cells": [
  {
   "cell_type": "code",
   "execution_count": 7,
   "metadata": {},
   "outputs": [],
   "source": [
    "import numpy as np \n",
    "from astropy.io import fits\n",
    "import sim_util as su\n",
    "import scipy.signal as signal\n",
    "import os \n",
    "import kappa_util as ul "
   ]
  },
  {
   "cell_type": "code",
   "execution_count": 8,
   "metadata": {},
   "outputs": [],
   "source": [
    "#load kappa (convergence) map\n",
    "data_path = '../manga_mass_0/mge_kappa/kappa'\n",
    "data_name = '1016_8318-12701'\n",
    "kappa_high_res  = fits.getdata(f'{data_path}/{data_name}.fits',0)\n",
    "header = fits.getheader(f'{data_path}/{data_name}.fits',0)\n",
    "dpix_high_res = header['dpix']  #subgrid pixel size in arcsec unit\n",
    "subgrid = header['nsub']  #number of sub-pixels for each native ccd pixel"
   ]
  },
  {
   "cell_type": "code",
   "execution_count": 9,
   "metadata": {},
   "outputs": [],
   "source": [
    "#calculate defelction angle map (alpha-map) from kappa map\n",
    "alphax_lowres, alphay_lowres = ul.alpha_from_kappa_adp(kappa_high_res, dpix_high_res, subgrid)   \n",
    "alphax_lowres = su.cut_image(alphax_lowres,(200,200))\n",
    "alphay_lowres = su.cut_image(alphay_lowres,(200,200))"
   ]
  },
  {
   "cell_type": "code",
   "execution_count": 10,
   "metadata": {},
   "outputs": [],
   "source": [
    "#generate image-plane grid\n",
    "x_grid_lowres, y_grid_lowres = su.make_grid_2d(alphax_lowres.shape[0], deltapix=dpix_high_res*subgrid)\n",
    "#ray-trace image-plane grid to source-plane\n",
    "xsource = x_grid_lowres - alphax_lowres \n",
    "ysource = y_grid_lowres - alphay_lowres"
   ]
  },
  {
   "cell_type": "code",
   "execution_count": 11,
   "metadata": {},
   "outputs": [
    {
     "data": {
      "image/png": "[encoded data removed]",
      "text/plain": [
       "<Figure size 432x288 with 2 Axes>"
      ]
     },
     "metadata": {
      "needs_background": "light"
     },
     "output_type": "display_data"
    }
   ],
   "source": [
    "#suppose the light distribution of the background source galaxy is a simple spherical gauss\n",
    "ideal_lensed_image = su.gauss_2d(xsource, ysource, 0.1, 0.2, 0.1, 10.0) #no psf, noise etc\n",
    "#show figure\n",
    "ext  = [x_grid_lowres.min(), x_grid_lowres.max(), y_grid_lowres.min(), y_grid_lowres.max()]\n",
    "from matplotlib import pyplot as plt\n",
    "plt.figure()\n",
    "plt.imshow(ideal_lensed_image, cmap='jet', origin='lower', extent=ext)\n",
    "plt.colorbar()\n",
    "plt.show() "
   ]
  },
  {
   "cell_type": "code",
   "execution_count": null,
   "metadata": {},
   "outputs": [],
   "source": []
  }
 ],
 "metadata": {
  "kernelspec": {
   "display_name": "Python 3",
   "language": "python",
   "name": "python3"
  },
  "language_info": {
   "codemirror_mode": {
    "name": "ipython",
    "version": 3
   },
   "file_extension": ".py",
   "mimetype": "text/x-python",
   "name": "python",
   "nbconvert_exporter": "python",
   "pygments_lexer": "ipython3",
   "version": "3.8.5"
  }
 },
 "nbformat": 4,
 "nbformat_minor": 4
}
